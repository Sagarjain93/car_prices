{
  "nbformat": 4,
  "nbformat_minor": 0,
  "metadata": {
    "colab": {
      "provenance": [],
      "authorship_tag": "ABX9TyPn5aTKcrT8AZTFzVpOaTz9",
      "include_colab_link": true
    },
    "kernelspec": {
      "name": "python3",
      "display_name": "Python 3"
    },
    "language_info": {
      "name": "python"
    }
  },
  "cells": [
    {
      "cell_type": "markdown",
      "metadata": {
        "id": "view-in-github",
        "colab_type": "text"
      },
      "source": [
        "<a href=\"https://colab.research.google.com/github/Sagarjain93/car_prices/blob/main/car_prices.ipynb\" target=\"_parent\"><img src=\"https://colab.research.google.com/assets/colab-badge.svg\" alt=\"Open In Colab\"/></a>"
      ]
    },
    {
      "cell_type": "markdown",
      "source": [
        "#**Project Title : Exploratory Data Analysis on Sales of Car Dataset**"
      ],
      "metadata": {
        "id": "qvAppv-BV7A8"
      }
    },
    {
      "cell_type": "markdown",
      "source": [
        "##**1.Introduction**\n",
        "\n",
        "This Exploratory Data Analysis (EDA) provides a clear overview of the car sales dataset, which includes important details such as car brand, model, manufacturing year, price, fuel type, transmission, and mileage. The primary goal is to uncover actionable insights that help us understand customer preferences, market trends, and factors driving sales performance.\n",
        "\n",
        "Through careful data cleaning and visualization, we highlight key patterns and relationships that influence buying decisions and pricing. These insights will support strategic business decisions, improve sales forecasting, and identify opportunities for growth in a competitive automotive market. Ultimately, this analysis forms a data-driven foundation for optimizing marketing strategies and enhancing overall business performance.\n",
        "\n",
        "we hypothesize that\n",
        "\n",
        "  1.Higher car mileage (odometer) leads to lower selling prices.\n",
        "  Rationale: Cars with more wear and tear are typically valued less.\n",
        "\n",
        "  2.Cars in better condition sell for higher prices.\n",
        "  Rationale: Buyers are willing to pay more for well-maintained vehicles.\n",
        "\n",
        "  3.Certain brands (e.g., Toyota, Honda) retain value better than others.\n",
        "  Rationale: Some brands are known for reliability and resale value.\n",
        "\n",
        "  4.Automatic transmission cars sell for higher prices than manual ones.\n",
        "  Rationale: Automatic vehicles are more popular and convenient for most buyers.\n",
        "\n",
        "  5.Newer model years are associated with higher selling prices.\n",
        "  Rationale: Newer vehicles have updated features and less wear.\n",
        "\n",
        "  6.MMR (market value estimate) is positively correlated with actual selling price.\n",
        "  Rationale: MMR is a pricing benchmark and should closely match real transactions.\n",
        "\n",
        "  7.SUVs and trucks have higher average selling prices than sedans and hatchbacks.\n",
        "  Rationale: Larger vehicles are generally more expensive.\n",
        "\n",
        "  8.Sales volume or price varies by state due to demand or regional preferences.\n",
        "  Rationale: Certain states may have more active used car markets or different price trends.\n",
        "\n",
        "  9.Cars sold in winter months have lower prices compared to summer months.\n",
        "  Rationale: Consumer demand may fluctuate seasonally.\n",
        "\n",
        "  10.Dealer (seller) has an impact on selling price even for similar models.\n",
        "  Rationale: Some dealers may offer better deals or add premiums."
      ],
      "metadata": {
        "id": "2b97aNsqWx0V"
      }
    },
    {
      "cell_type": "markdown",
      "source": [
        "##**2.Dataset Description**\n",
        "\n",
        "The car sales dataset contains detailed information on vehicle listings and sales transactions. The key attributes included are:\n",
        "\n",
        "* **Year:** The model year of the vehicle.\n",
        "\n",
        "* **Make:** The manufacturer or brand of the car (e.g., Toyota, Ford).\n",
        "\n",
        "* **Model:** The specific model name of the vehicle.\n",
        "\n",
        "* **Trim:** The variant or version of the model, indicating different features or packages.\n",
        "\n",
        "* **Body:** The body style of the vehicle (e.g., sedan, SUV, coupe).\n",
        "\n",
        "* **Transmission:** The type of transmission system (e.g., automatic, manual).\n",
        "\n",
        "* **VIN:** The unique Vehicle Identification Number, used to track individual cars.\n",
        "\n",
        "* **State**: The U.S. state where the vehicle was sold or listed.\n",
        "\n",
        "* **Condition**: The overall condition rating of the vehicle (e.g., excellent, good, fair).\n",
        "\n",
        "* **Odometer:** The mileage on the vehicle at the time of sale, measured in miles.\n",
        "\n",
        "* **Color**: The exterior color of the vehicle.\n",
        "\n",
        "* **Interior**: The interior color or material of the vehicle.\n",
        "\n",
        "* Seller: The entity or dealership selling the car.\n",
        "\n",
        "* **MMR (Manheim Market Report)**: The wholesale market value estimate for the vehicle.\n",
        "\n",
        "* **Selling Price:** The final sale price of the vehicle.\n",
        "\n",
        "* **Sale Date:** The date when the sale transaction occurred.\n",
        "\n",
        "This dataset provides a comprehensive view of car sales transactions, enabling analysis of price trends, vehicle popularity, market conditions, and sales performance across different regions and time periods.\n",
        "\n"
      ],
      "metadata": {
        "id": "PW01oWnXXGvQ"
      }
    },
    {
      "cell_type": "markdown",
      "source": [],
      "metadata": {
        "id": "_iksmt1HBD3B"
      }
    },
    {
      "cell_type": "markdown",
      "source": [
        "#**3. Import Required Libraries**\n",
        "We import Python libraries necessary for data manipulation and visualization"
      ],
      "metadata": {
        "id": "xfeOI7RGgEyU"
      }
    },
    {
      "cell_type": "code",
      "source": [
        "# Data Manipulation Libraries\n",
        "import numpy as np\n",
        "import pandas as pd\n",
        "\n",
        "# Data Visualization Libraries\n",
        "import matplotlib.pyplot as plt\n",
        "import seaborn as sns\n",
        "\n",
        "# Set a consistent theme for all plots\n",
        "sns.set(style = 'whitegrid')"
      ],
      "metadata": {
        "id": "nVTCmX-LA9ld"
      },
      "execution_count": 2,
      "outputs": []
    },
    {
      "cell_type": "code",
      "source": [
        "from google.colab import drive\n",
        "drive.mount('/content/drive')"
      ],
      "metadata": {
        "colab": {
          "base_uri": "https://localhost:8080/"
        },
        "id": "sL25A9zfBMDj",
        "outputId": "65412c4b-ddb1-4d22-8817-9005a3f1b903"
      },
      "execution_count": 3,
      "outputs": [
        {
          "output_type": "stream",
          "name": "stdout",
          "text": [
            "Mounted at /content/drive\n"
          ]
        }
      ]
    },
    {
      "cell_type": "markdown",
      "source": [
        "#**4. Load The Dataset**\n",
        "To begin the analysis, the car sales dataset is loaded directly from Google Drive. This approach ensures convenient access to the data stored in the cloud, especially when working in collaborative or cloud-based environments like Google Colab. By mounting Google Drive or using a shareable link, we can seamlessly import the dataset into our workspace for further processing and analysis.\n",
        "\n"
      ],
      "metadata": {
        "id": "HmKDJbgwgQXW"
      }
    },
    {
      "cell_type": "code",
      "source": [
        "df = pd.read_csv('/content/drive/MyDrive/Colab Notebooks/dataset/6_Sales/car/car_prices.csv')\n"
      ],
      "metadata": {
        "id": "eoWAPzVOCIwv"
      },
      "execution_count": 4,
      "outputs": []
    }
  ]
}